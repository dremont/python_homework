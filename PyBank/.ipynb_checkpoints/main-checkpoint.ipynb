{
 "cells": [
  {
   "cell_type": "code",
   "execution_count": 52,
   "id": "65755b78-9e2b-45be-8c21-961cb4ad16fa",
   "metadata": {},
   "outputs": [
    {
     "name": "stdout",
     "output_type": "stream",
     "text": [
      "Financial Analysis\n",
      ".........................\n",
      "\n",
      "Total Months: 86\n",
      "Total Profit and Loss: $ 38382578\n",
      "Average Profit and Loss: $ 446309\n",
      "Greatest Increase:  Sep-2013 $ 1170593\n",
      "Greatest Decrease:  Sep-2013 $ -1196225\n"
     ]
    }
   ],
   "source": [
    "# Code to import the csv file. \n",
    "import csv\n",
    "\n",
    "# Setting up parameters for my program \n",
    "total_pnl_list = []\n",
    "total_pnl = 0\n",
    "count_pnl = 0\n",
    "avg_pnl = 0\n",
    "max_pnl = 0\n",
    "min_pnl = 0\n",
    "\n",
    "# Opening the csv file to be used. \n",
    "with open('budget.txt', 'r') as csv_file:\n",
    "    csv_reader = csv.reader(csv_file)\n",
    "    \n",
    "# Creating a loop which will create a seperate list for analyzing pnl    \n",
    "    \n",
    "    for row in csv_reader:\n",
    "        total = int(row[1])\n",
    "        \n",
    "        total_pnl_list.append(total)\n",
    "\n",
    "# Creating a loop to find the min, max, total, and count        \n",
    "    \n",
    "    for pnl in total_pnl_list:\n",
    "        total_pnl += pnl\n",
    "        count_pnl += 1\n",
    "        if min_pnl == 0:\n",
    "            min_pnl = pnl\n",
    "        elif pnl < min_pnl:\n",
    "            min_pnl = pnl\n",
    "        elif pnl > max_pnl:\n",
    "            max_pnl = pnl\n",
    "\n",
    "# Creating a loop to match the month of the greates and least pnl gain \n",
    "        for row in csv_reader:\n",
    "            if row[1] == '1170593':\n",
    "                x = row[0]\n",
    "                print(x)\n",
    "            if row[1] == '-1196225':\n",
    "                x = row[0]\n",
    "                print(x)\n",
    "\n",
    "\n",
    "\n",
    "# Getting the average    \n",
    "avg_pnl = round(total_pnl/count_pnl)\n",
    "\n",
    "\n",
    "\n",
    "# Printing results       \n",
    "print(\"Financial Analysis\")\n",
    "print(\".........................\")\n",
    "print()\n",
    "print(\"Total Months:\", count_pnl)        \n",
    "print(\"Total Profit and Loss:\",\"$\", total_pnl)\n",
    "print(\"Average Profit and Loss: $\", avg_pnl)\n",
    "print(\"Greatest Increase: \", x, \"$\", max_pnl)\n",
    "print(\"Greatest Decrease: \", x, \"$\", min_pnl)\n",
    "\n",
    "\n",
    "        \n",
    "\n",
    "    \n",
    "    "
   ]
  },
  {
   "cell_type": "code",
   "execution_count": null,
   "id": "33db5895-4242-446d-875d-0c5605a8d7e2",
   "metadata": {},
   "outputs": [],
   "source": []
  }
 ],
 "metadata": {
  "kernelspec": {
   "display_name": "Python 3 (ipykernel)",
   "language": "python",
   "name": "python3"
  },
  "language_info": {
   "codemirror_mode": {
    "name": "ipython",
    "version": 3
   },
   "file_extension": ".py",
   "mimetype": "text/x-python",
   "name": "python",
   "nbconvert_exporter": "python",
   "pygments_lexer": "ipython3",
   "version": "3.9.12"
  }
 },
 "nbformat": 4,
 "nbformat_minor": 5
}
