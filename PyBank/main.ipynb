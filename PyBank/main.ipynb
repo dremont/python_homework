{
 "cells": [
  {
   "cell_type": "code",
   "execution_count": 1,
   "id": "cb4e379e-8009-405a-9362-44e84eba660d",
   "metadata": {},
   "outputs": [
    {
     "name": "stdout",
     "output_type": "stream",
     "text": [
      "Total Months: 86\n",
      "Total Profit and Loss: $ 38382578\n",
      "Average Profit and Loss: $ 446309\n",
      "Max gain: $ 1170593\n",
      "Min gain: $ -1196225\n"
     ]
    }
   ],
   "source": [
    "import csv\n",
    "total_pnl_list = []\n",
    "total_pnl = 0\n",
    "count_pnl = 0\n",
    "avg_pnl = 0\n",
    "max_pnl = 0\n",
    "min_pnl = 0\n",
    "\n",
    "with open('budget.txt', 'r') as csv_file:\n",
    "    csv_reader = csv.reader(csv_file)\n",
    "    \n",
    "    for row in csv_reader:\n",
    "        total = int(row[1])\n",
    "        #print(total)\n",
    "        total_pnl_list.append(total)\n",
    "    \n",
    "    for pnl in total_pnl_list:\n",
    "        total_pnl += pnl\n",
    "        count_pnl += 1\n",
    "        if min_pnl == 0:\n",
    "            min_pnl = pnl\n",
    "        elif pnl < min_pnl:\n",
    "            min_pnl = pnl\n",
    "        elif pnl > max_pnl:\n",
    "            max_pnl = pnl\n",
    "    \n",
    "avg_pnl = round(total_pnl/count_pnl)\n",
    "            \n",
    "        \n",
    "print(\"Total Months:\", count_pnl)        \n",
    "print(\"Total Profit and Loss:\",\"$\", total_pnl)\n",
    "print(\"Average Profit and Loss: $\", avg_pnl)\n",
    "print(\"Max gain: $\", max_pnl)\n",
    "print(\"Min gain: $\", min_pnl)\n",
    "        "
   ]
  },
  {
   "cell_type": "code",
   "execution_count": null,
   "id": "1ade767d-05e0-4cf9-8b37-3f505d727aaa",
   "metadata": {},
   "outputs": [],
   "source": []
  }
 ],
 "metadata": {
  "kernelspec": {
   "display_name": "Python 3 (ipykernel)",
   "language": "python",
   "name": "python3"
  },
  "language_info": {
   "codemirror_mode": {
    "name": "ipython",
    "version": 3
   },
   "file_extension": ".py",
   "mimetype": "text/x-python",
   "name": "python",
   "nbconvert_exporter": "python",
   "pygments_lexer": "ipython3",
   "version": "3.9.12"
  }
 },
 "nbformat": 4,
 "nbformat_minor": 5
}
