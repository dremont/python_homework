{
 "cells": [
  {
   "cell_type": "code",
   "execution_count": 1,
   "id": "c8fcf526-143b-4066-b25d-5d6a3e91c1b9",
   "metadata": {},
   "outputs": [],
   "source": [
    "#import libraries \n",
    "from pathlib import Path\n",
    "import csv"
   ]
  },
  {
   "cell_type": "code",
   "execution_count": 2,
   "id": "b392790e-28e3-431d-bbb0-35b8ca38c415",
   "metadata": {},
   "outputs": [
    {
     "data": {
      "text/plain": [
       "PosixPath('accounting.txt')"
      ]
     },
     "execution_count": 2,
     "metadata": {},
     "output_type": "execute_result"
    }
   ],
   "source": [
    "# set path of my file \n",
    "csvpath = Path(\"accounting.txt\")\n",
    "csvpath"
   ]
  },
  {
   "cell_type": "code",
   "execution_count": 3,
   "id": "d51c315b-3dd2-4cd7-b554-555ac9b160b2",
   "metadata": {},
   "outputs": [],
   "source": [
    "# hold salaries in a list\n",
    "salaries=[]\n",
    "\n",
    "#initialize the counting lines\n",
    "line_num = 0\n"
   ]
  },
  {
   "cell_type": "code",
   "execution_count": 4,
   "id": "6d843fa6-d530-44a7-9f44-ee37e27ba12d",
   "metadata": {},
   "outputs": [
    {
     "name": "stdout",
     "output_type": "stream",
     "text": [
      "<class '_io.TextIOWrapper'>\n",
      "<class '_csv.reader'>\n",
      "['First Name\\tLast Name\\tSSN\\tSalary']\n"
     ]
    },
    {
     "ename": "IndexError",
     "evalue": "list index out of range",
     "output_type": "error",
     "traceback": [
      "\u001b[0;31m---------------------------------------------------------------------------\u001b[0m",
      "\u001b[0;31mIndexError\u001b[0m                                Traceback (most recent call last)",
      "Input \u001b[0;32mIn [4]\u001b[0m, in \u001b[0;36m<cell line: 2>\u001b[0;34m()\u001b[0m\n\u001b[1;32m     15\u001b[0m \u001b[38;5;66;03m# for loop to iterate salaries\u001b[39;00m\n\u001b[1;32m     16\u001b[0m \u001b[38;5;28;01mfor\u001b[39;00m row \u001b[38;5;129;01min\u001b[39;00m csvreader:\n\u001b[1;32m     17\u001b[0m     \u001b[38;5;66;03m#print(row)\u001b[39;00m\n\u001b[0;32m---> 18\u001b[0m     salary \u001b[38;5;241m=\u001b[39m \u001b[38;5;28mint\u001b[39m(\u001b[43mrow\u001b[49m\u001b[43m[\u001b[49m\u001b[38;5;241;43m3\u001b[39;49m\u001b[43m]\u001b[49m)\n\u001b[1;32m     19\u001b[0m     \u001b[38;5;28mprint\u001b[39m(salary)\n\u001b[1;32m     21\u001b[0m     \u001b[38;5;66;03m#append the row of salaries to the empty list\u001b[39;00m\n",
      "\u001b[0;31mIndexError\u001b[0m: list index out of range"
     ]
    }
   ],
   "source": [
    "# open input path as file object - csv\n",
    "with open(csvpath, 'r') as csvfile:\n",
    "    print(type(csvfile))\n",
    "    \n",
    "    #pass this object to a csv.reader()\n",
    "    csvreader = csv.reader(csvfile, delimiter = ',')\n",
    "    print(type(csvreader))\n",
    "    \n",
    "    # Go to the next row from the start of the file(skip the header)\n",
    "    header = next(csvreader)\n",
    "    line_num += 1 # iterate thru the first row by 1 \n",
    "    #print header\n",
    "    print(header)\n",
    "    \n",
    "    # for loop to iterate salaries\n",
    "    for row in csvreader:\n",
    "        #print(row)\n",
    "        salary = int(row[3])\n",
    "        print(salary)\n",
    "        \n",
    "        #append the row of salaries to the empty list\n",
    "        salaries.append(salary)"
   ]
  },
  {
   "cell_type": "code",
   "execution_count": 5,
   "id": "de5c5876-b696-4fa9-b089-c7ea2bfd0adf",
   "metadata": {},
   "outputs": [],
   "source": [
    "# Set up our metrics\n",
    "max_salary = 0\n",
    "min_salary = 0\n",
    "avg_salary = 0\n",
    "total_salary = 0\n",
    "count_salary = 0"
   ]
  },
  {
   "cell_type": "code",
   "execution_count": 6,
   "id": "99eaf410-e59e-4a05-b126-cb35be2263a9",
   "metadata": {},
   "outputs": [
    {
     "ename": "ZeroDivisionError",
     "evalue": "division by zero",
     "output_type": "error",
     "traceback": [
      "\u001b[0;31m---------------------------------------------------------------------------\u001b[0m",
      "\u001b[0;31mZeroDivisionError\u001b[0m                         Traceback (most recent call last)",
      "Input \u001b[0;32mIn [6]\u001b[0m, in \u001b[0;36m<cell line: 16>\u001b[0;34m()\u001b[0m\n\u001b[1;32m     13\u001b[0m         max_salary \u001b[38;5;241m=\u001b[39m salary\n\u001b[1;32m     15\u001b[0m \u001b[38;5;66;03m# calculate my average\u001b[39;00m\n\u001b[0;32m---> 16\u001b[0m avg_salary \u001b[38;5;241m=\u001b[39m \u001b[38;5;28mround\u001b[39m(\u001b[43mtotal_salary\u001b[49m\u001b[38;5;241;43m/\u001b[39;49m\u001b[43m \u001b[49m\u001b[43mcount_salary\u001b[49m,\u001b[38;5;241m3\u001b[39m)\n\u001b[1;32m     17\u001b[0m \u001b[38;5;28mprint\u001b[39m(avg_salary)\n\u001b[1;32m     18\u001b[0m \u001b[38;5;28mprint\u001b[39m(max_salary)\n",
      "\u001b[0;31mZeroDivisionError\u001b[0m: division by zero"
     ]
    }
   ],
   "source": [
    "# calculate mean, max, min, and average\n",
    "for salary in salaries:\n",
    "    # calculate the total and count the number of salaries in the list\n",
    "    total_salary += salary\n",
    "    count_salary += 1\n",
    "    \n",
    "    # Let's do min and max\n",
    "    if min_salary == 0:\n",
    "        min_salary = salary\n",
    "    elif salary < min_salary:\n",
    "        min_salary = salary\n",
    "    elif salary > max_salary:\n",
    "        max_salary = salary\n",
    "        \n",
    "# calculate my average\n",
    "avg_salary = round(total_salary/ count_salary,3)\n",
    "print(avg_salary)\n",
    "print(max_salary)\n",
    "print(min_salary)"
   ]
  },
  {
   "cell_type": "code",
   "execution_count": null,
   "id": "a9394031-6c2e-4d26-9ea7-2bae089ff5a8",
   "metadata": {},
   "outputs": [],
   "source": [
    "# Let's create the header of the csv\n",
    "header = [\"Max Salary\", \"Min Salary\", \"Avg Salary\"]\n",
    "metrics = [max_salary, min_salary, avg_salary]\n",
    "metrics"
   ]
  },
  {
   "cell_type": "code",
   "execution_count": null,
   "id": "e46b366a-656c-483c-909f-b25717d3b0d3",
   "metadata": {},
   "outputs": [],
   "source": [
    "output_path = Path('results.csv')"
   ]
  },
  {
   "cell_type": "code",
   "execution_count": null,
   "id": "90ed2ed1-7c79-4e57-b6f0-41fe39151f06",
   "metadata": {},
   "outputs": [],
   "source": [
    "with open(output_path, 'w') as csvfile:\n",
    "    csvwriter = csv.writer(csvfile, delimiter= ',')\n",
    "    csvwriter.writerow(header)\n",
    "    csvwriter.writerow(metrics)\n",
    "    "
   ]
  }
 ],
 "metadata": {
  "kernelspec": {
   "display_name": "Python 3.10.5 64-bit",
   "language": "python",
   "name": "python3"
  },
  "language_info": {
   "codemirror_mode": {
    "name": "ipython",
    "version": 3
   },
   "file_extension": ".py",
   "mimetype": "text/x-python",
   "name": "python",
   "nbconvert_exporter": "python",
   "pygments_lexer": "ipython3",
   "version": "3.10.5"
  },
  "vscode": {
   "interpreter": {
    "hash": "aee8b7b246df8f9039afb4144a1f6fd8d2ca17a180786b69acc140d282b71a49"
   }
  }
 },
 "nbformat": 4,
 "nbformat_minor": 5
}
